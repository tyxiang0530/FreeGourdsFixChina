{
 "cells": [
  {
   "cell_type": "code",
   "metadata": {
    "tags": [],
    "cell_id": "00000-2ad8c881-95ee-49a6-add4-d870fb191505",
    "deepnote_to_be_reexecuted": false,
    "source_hash": "674859ae",
    "execution_start": 1636912022087,
    "execution_millis": 6,
    "deepnote_cell_type": "code"
   },
   "source": "from numpy import genfromtxt\nimport numpy as np",
   "execution_count": 2,
   "outputs": []
  },
  {
   "cell_type": "code",
   "source": "education_expend = genfromtxt('education_expend_percent_gdp.csv', delimiter=',')\nmilitary_expend = genfromtxt('military_spend_percent_gdp.csv', delimiter=',')\npopulation = genfromtxt('population.csv', delimiter=',')\ntotal_gdp = genfromtxt('total_gdp.csv', delimiter=',')",
   "metadata": {
    "tags": [],
    "cell_id": "00001-814e7859-795e-4a71-b837-2dc4eed42ee8",
    "deepnote_to_be_reexecuted": false,
    "source_hash": "7702367b",
    "execution_start": 1636912643438,
    "execution_millis": 109,
    "deepnote_cell_type": "code"
   },
   "outputs": [],
   "execution_count": 13
  },
  {
   "cell_type": "code",
   "source": "print(education_expend)",
   "metadata": {
    "tags": [],
    "cell_id": "00002-f58a1339-9bb6-4113-b598-33e64317ab1c",
    "deepnote_to_be_reexecuted": false,
    "source_hash": "d2660d2e",
    "execution_start": 1636912921458,
    "execution_millis": 28,
    "deepnote_cell_type": "code"
   },
   "outputs": [
    {
     "name": "stdout",
     "text": "[[       nan 0.         0.         ... 0.         0.         0.        ]\n [0.         0.         0.         ... 0.         0.         0.        ]\n [0.         0.         0.         ... 0.         0.         0.        ]\n ...\n [0.         4.95163488 3.19979    ... 6.15898991 4.73973989 3.58728004]\n [0.         4.71929979 3.21377993 ... 6.50505018 4.46517992 0.        ]\n [0.         0.         0.         ... 6.83613014 0.         0.        ]]\n",
     "output_type": "stream"
    }
   ],
   "execution_count": 22
  },
  {
   "cell_type": "code",
   "source": "print(education_expend.shape)\nprint(military_expend.shape)\nprint(population.shape)\nprint(total_gdp.shape)",
   "metadata": {
    "tags": [],
    "cell_id": "00002-02800b18-cc5d-4e1b-a3f3-ef9316d20745",
    "deepnote_to_be_reexecuted": false,
    "source_hash": "ebb2dddc",
    "execution_start": 1636912645197,
    "execution_millis": 6,
    "deepnote_cell_type": "code"
   },
   "outputs": [
    {
     "name": "stdout",
     "text": "(60, 266)\n(60, 266)\n(60, 266)\n(60, 266)\n",
     "output_type": "stream"
    }
   ],
   "execution_count": 14
  },
  {
   "cell_type": "code",
   "source": "def get_per_capita(array_in):\n    decimal_arr = array_in / 100\n    return np.divide(np.multiply(decimal_arr, total_gdp), population)",
   "metadata": {
    "tags": [],
    "cell_id": "00003-74c5fc58-ea3a-4f32-bae8-0f8ad9ceadfd",
    "deepnote_to_be_reexecuted": false,
    "source_hash": "5ca560b0",
    "execution_start": 1636912882311,
    "execution_millis": 28,
    "deepnote_cell_type": "code"
   },
   "outputs": [],
   "execution_count": 19
  },
  {
   "cell_type": "code",
   "source": "education_per_capita = get_per_capita(education_expend)",
   "metadata": {
    "tags": [],
    "cell_id": "00004-dc3f99a9-53f5-4b53-8b4f-4928f4995d5a",
    "deepnote_to_be_reexecuted": false,
    "source_hash": "984dac9f",
    "execution_start": 1636912887143,
    "execution_millis": 3,
    "deepnote_cell_type": "code"
   },
   "outputs": [
    {
     "name": "stderr",
     "text": "/shared-libs/python3.7/py-core/lib/python3.7/site-packages/ipykernel_launcher.py:3: RuntimeWarning: divide by zero encountered in true_divide\n  This is separate from the ipykernel package so we can avoid doing imports until\n/shared-libs/python3.7/py-core/lib/python3.7/site-packages/ipykernel_launcher.py:3: RuntimeWarning: invalid value encountered in true_divide\n  This is separate from the ipykernel package so we can avoid doing imports until\n",
     "output_type": "stream"
    }
   ],
   "execution_count": 20
  },
  {
   "cell_type": "code",
   "source": "print(education_per_capita)",
   "metadata": {
    "tags": [],
    "cell_id": "00005-bf37ed6d-6a4f-4327-adec-f1266c0c4ad1",
    "deepnote_to_be_reexecuted": false,
    "source_hash": "658ce02",
    "execution_start": 1636912900233,
    "execution_millis": 13,
    "deepnote_cell_type": "code"
   },
   "outputs": [
    {
     "name": "stdout",
     "text": "[[         nan   0.           0.         ...   0.           0.\n    0.        ]\n [  0.           0.           0.         ...   0.           0.\n    0.        ]\n [  0.           0.           0.         ...   0.           0.\n    0.        ]\n ...\n [  0.          75.99655779  15.79917372 ... 392.18021388  71.87204599\n   48.5058609 ]\n [  0.          70.06953896  16.29718701 ... 389.91464926  58.27069679\n    0.        ]\n [  0.           0.           0.         ... 348.09592033   0.\n    0.        ]]\n",
     "output_type": "stream"
    }
   ],
   "execution_count": 21
  },
  {
   "cell_type": "code",
   "source": "military_per_capita = get_per_capita(military_expend)",
   "metadata": {
    "tags": [],
    "cell_id": "00007-6bd7c7f4-43c4-4ead-8af0-1d4f9e6bdb50",
    "deepnote_to_be_reexecuted": false,
    "source_hash": "c1294c09",
    "execution_start": 1636913110053,
    "execution_millis": 5,
    "deepnote_cell_type": "code"
   },
   "outputs": [
    {
     "name": "stderr",
     "text": "/shared-libs/python3.7/py-core/lib/python3.7/site-packages/ipykernel_launcher.py:3: RuntimeWarning: divide by zero encountered in true_divide\n  This is separate from the ipykernel package so we can avoid doing imports until\n/shared-libs/python3.7/py-core/lib/python3.7/site-packages/ipykernel_launcher.py:3: RuntimeWarning: invalid value encountered in true_divide\n  This is separate from the ipykernel package so we can avoid doing imports until\n",
     "output_type": "stream"
    }
   ],
   "execution_count": 27
  },
  {
   "cell_type": "code",
   "source": "print(military_per_capita)",
   "metadata": {
    "tags": [],
    "cell_id": "00008-fb441308-d499-4606-87dd-a3cad79234d1",
    "deepnote_to_be_reexecuted": false,
    "source_hash": "cc47eae",
    "execution_start": 1636913118803,
    "execution_millis": 14,
    "deepnote_cell_type": "code"
   },
   "outputs": [
    {
     "name": "stdout",
     "text": "[[        nan  0.          0.         ...  6.67815598  0.\n   0.        ]\n [ 0.          0.          0.         ... 10.66563761  0.\n   0.        ]\n [ 0.          0.          0.         ... 10.56041795  0.\n   0.        ]\n ...\n [ 0.         18.05574303  4.97087607 ... 62.71846157 21.37268036\n  16.53417687]\n [ 0.         16.76316051  5.67058532 ... 58.62505227 15.91286424\n   8.07690913]\n [ 0.         15.40504487  6.96906947 ... 54.69795738 12.12997795\n   0.        ]]\n",
     "output_type": "stream"
    }
   ],
   "execution_count": 28
  },
  {
   "cell_type": "code",
   "source": "np.savetxt(\"education_per_capita.csv\", education_per_capita, delimiter=\",\")",
   "metadata": {
    "tags": [],
    "cell_id": "00006-7937ba0a-6934-4516-aed3-f40ae0a52dac",
    "deepnote_to_be_reexecuted": false,
    "source_hash": "e123a0b5",
    "execution_start": 1636913002335,
    "execution_millis": 340,
    "deepnote_cell_type": "code"
   },
   "outputs": [],
   "execution_count": 26
  },
  {
   "cell_type": "code",
   "source": "np.savetxt(\"military_per_capita.csv\", military_per_capita, delimiter=\",\")",
   "metadata": {
    "tags": [],
    "cell_id": "00008-13711463-6e20-4601-8ac8-944f0c4bf6e1",
    "deepnote_to_be_reexecuted": false,
    "source_hash": "3e93027c",
    "execution_start": 1636913123304,
    "execution_millis": 137,
    "deepnote_cell_type": "code"
   },
   "outputs": [],
   "execution_count": 29
  },
  {
   "cell_type": "code",
   "source": "",
   "metadata": {
    "tags": [],
    "cell_id": "00011-b1b978c1-6a12-40e4-ac5e-901ceedeefd0",
    "deepnote_cell_type": "code"
   },
   "outputs": [],
   "execution_count": null
  },
  {
   "cell_type": "markdown",
   "source": "<a style='text-decoration:none;line-height:16px;display:flex;color:#5B5B62;padding:10px;justify-content:end;' href='https://deepnote.com?utm_source=created-in-deepnote-cell&projectId=2853c3ca-ce0b-477f-9dfd-c061b659595b' target=\"_blank\">\n<img alt='Created in deepnote.com' style='display:inline;max-height:16px;margin:0px;margin-right:7.5px;' src='data:image/svg+xml;base64,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' > </img>\nCreated in <span style='font-weight:600;margin-left:4px;'>Deepnote</span></a>",
   "metadata": {
    "tags": [],
    "created_in_deepnote_cell": true,
    "deepnote_cell_type": "markdown"
   }
  }
 ],
 "nbformat": 4,
 "nbformat_minor": 2,
 "metadata": {
  "orig_nbformat": 2,
  "deepnote": {
   "is_reactive": false
  },
  "deepnote_notebook_id": "f3a1212d-0c6c-4ac5-b70d-cbd41cb05888",
  "deepnote_execution_queue": []
 }
}